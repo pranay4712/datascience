{
  "cells": [
    {
      "cell_type": "markdown",
      "metadata": {
        "id": "view-in-github",
        "colab_type": "text"
      },
      "source": [
        "<a href=\"https://colab.research.google.com/github/pranay4712/datascience/blob/main/Neural_Networks_(Forest_Fires)_assignment_16.ipynb\" target=\"_parent\"><img src=\"https://colab.research.google.com/assets/colab-badge.svg\" alt=\"Open In Colab\"/></a>"
      ]
    },
    {
      "cell_type": "code",
      "execution_count": null,
      "metadata": {
        "id": "0QldtpkXIcfA"
      },
      "outputs": [],
      "source": [
        "import numpy as np\n",
        "import pandas as pd\n",
        "import matplotlib.pyplot as plt\n",
        "%matplotlib inline"
      ]
    },
    {
      "cell_type": "code",
      "execution_count": null,
      "metadata": {
        "id": "yWBihUAVIcfF"
      },
      "outputs": [],
      "source": [
        "df=pd.read_csv(\"forestfires.csv\")"
      ]
    },
    {
      "cell_type": "code",
      "execution_count": null,
      "metadata": {
        "scrolled": true,
        "id": "2e9xYTyTIcfG",
        "outputId": "55286b4a-5637-40d6-fb56-4280fd761f23"
      },
      "outputs": [
        {
          "data": {
            "text/html": [
              "<div>\n",
              "<style scoped>\n",
              "    .dataframe tbody tr th:only-of-type {\n",
              "        vertical-align: middle;\n",
              "    }\n",
              "\n",
              "    .dataframe tbody tr th {\n",
              "        vertical-align: top;\n",
              "    }\n",
              "\n",
              "    .dataframe thead th {\n",
              "        text-align: right;\n",
              "    }\n",
              "</style>\n",
              "<table border=\"1\" class=\"dataframe\">\n",
              "  <thead>\n",
              "    <tr style=\"text-align: right;\">\n",
              "      <th></th>\n",
              "      <th>month</th>\n",
              "      <th>day</th>\n",
              "      <th>FFMC</th>\n",
              "      <th>DMC</th>\n",
              "      <th>DC</th>\n",
              "      <th>ISI</th>\n",
              "      <th>temp</th>\n",
              "      <th>RH</th>\n",
              "      <th>wind</th>\n",
              "      <th>rain</th>\n",
              "      <th>...</th>\n",
              "      <th>monthfeb</th>\n",
              "      <th>monthjan</th>\n",
              "      <th>monthjul</th>\n",
              "      <th>monthjun</th>\n",
              "      <th>monthmar</th>\n",
              "      <th>monthmay</th>\n",
              "      <th>monthnov</th>\n",
              "      <th>monthoct</th>\n",
              "      <th>monthsep</th>\n",
              "      <th>size_category</th>\n",
              "    </tr>\n",
              "  </thead>\n",
              "  <tbody>\n",
              "    <tr>\n",
              "      <th>0</th>\n",
              "      <td>mar</td>\n",
              "      <td>fri</td>\n",
              "      <td>86.2</td>\n",
              "      <td>26.2</td>\n",
              "      <td>94.3</td>\n",
              "      <td>5.1</td>\n",
              "      <td>8.2</td>\n",
              "      <td>51</td>\n",
              "      <td>6.7</td>\n",
              "      <td>0.0</td>\n",
              "      <td>...</td>\n",
              "      <td>0</td>\n",
              "      <td>0</td>\n",
              "      <td>0</td>\n",
              "      <td>0</td>\n",
              "      <td>1</td>\n",
              "      <td>0</td>\n",
              "      <td>0</td>\n",
              "      <td>0</td>\n",
              "      <td>0</td>\n",
              "      <td>small</td>\n",
              "    </tr>\n",
              "    <tr>\n",
              "      <th>1</th>\n",
              "      <td>oct</td>\n",
              "      <td>tue</td>\n",
              "      <td>90.6</td>\n",
              "      <td>35.4</td>\n",
              "      <td>669.1</td>\n",
              "      <td>6.7</td>\n",
              "      <td>18.0</td>\n",
              "      <td>33</td>\n",
              "      <td>0.9</td>\n",
              "      <td>0.0</td>\n",
              "      <td>...</td>\n",
              "      <td>0</td>\n",
              "      <td>0</td>\n",
              "      <td>0</td>\n",
              "      <td>0</td>\n",
              "      <td>0</td>\n",
              "      <td>0</td>\n",
              "      <td>0</td>\n",
              "      <td>1</td>\n",
              "      <td>0</td>\n",
              "      <td>small</td>\n",
              "    </tr>\n",
              "    <tr>\n",
              "      <th>2</th>\n",
              "      <td>oct</td>\n",
              "      <td>sat</td>\n",
              "      <td>90.6</td>\n",
              "      <td>43.7</td>\n",
              "      <td>686.9</td>\n",
              "      <td>6.7</td>\n",
              "      <td>14.6</td>\n",
              "      <td>33</td>\n",
              "      <td>1.3</td>\n",
              "      <td>0.0</td>\n",
              "      <td>...</td>\n",
              "      <td>0</td>\n",
              "      <td>0</td>\n",
              "      <td>0</td>\n",
              "      <td>0</td>\n",
              "      <td>0</td>\n",
              "      <td>0</td>\n",
              "      <td>0</td>\n",
              "      <td>1</td>\n",
              "      <td>0</td>\n",
              "      <td>small</td>\n",
              "    </tr>\n",
              "    <tr>\n",
              "      <th>3</th>\n",
              "      <td>mar</td>\n",
              "      <td>fri</td>\n",
              "      <td>91.7</td>\n",
              "      <td>33.3</td>\n",
              "      <td>77.5</td>\n",
              "      <td>9.0</td>\n",
              "      <td>8.3</td>\n",
              "      <td>97</td>\n",
              "      <td>4.0</td>\n",
              "      <td>0.2</td>\n",
              "      <td>...</td>\n",
              "      <td>0</td>\n",
              "      <td>0</td>\n",
              "      <td>0</td>\n",
              "      <td>0</td>\n",
              "      <td>1</td>\n",
              "      <td>0</td>\n",
              "      <td>0</td>\n",
              "      <td>0</td>\n",
              "      <td>0</td>\n",
              "      <td>small</td>\n",
              "    </tr>\n",
              "    <tr>\n",
              "      <th>4</th>\n",
              "      <td>mar</td>\n",
              "      <td>sun</td>\n",
              "      <td>89.3</td>\n",
              "      <td>51.3</td>\n",
              "      <td>102.2</td>\n",
              "      <td>9.6</td>\n",
              "      <td>11.4</td>\n",
              "      <td>99</td>\n",
              "      <td>1.8</td>\n",
              "      <td>0.0</td>\n",
              "      <td>...</td>\n",
              "      <td>0</td>\n",
              "      <td>0</td>\n",
              "      <td>0</td>\n",
              "      <td>0</td>\n",
              "      <td>1</td>\n",
              "      <td>0</td>\n",
              "      <td>0</td>\n",
              "      <td>0</td>\n",
              "      <td>0</td>\n",
              "      <td>small</td>\n",
              "    </tr>\n",
              "  </tbody>\n",
              "</table>\n",
              "<p>5 rows × 31 columns</p>\n",
              "</div>"
            ],
            "text/plain": [
              "  month  day  FFMC   DMC     DC  ISI  temp  RH  wind  rain  ...  monthfeb  \\\n",
              "0   mar  fri  86.2  26.2   94.3  5.1   8.2  51   6.7   0.0  ...         0   \n",
              "1   oct  tue  90.6  35.4  669.1  6.7  18.0  33   0.9   0.0  ...         0   \n",
              "2   oct  sat  90.6  43.7  686.9  6.7  14.6  33   1.3   0.0  ...         0   \n",
              "3   mar  fri  91.7  33.3   77.5  9.0   8.3  97   4.0   0.2  ...         0   \n",
              "4   mar  sun  89.3  51.3  102.2  9.6  11.4  99   1.8   0.0  ...         0   \n",
              "\n",
              "   monthjan  monthjul  monthjun  monthmar  monthmay  monthnov  monthoct  \\\n",
              "0         0         0         0         1         0         0         0   \n",
              "1         0         0         0         0         0         0         1   \n",
              "2         0         0         0         0         0         0         1   \n",
              "3         0         0         0         1         0         0         0   \n",
              "4         0         0         0         1         0         0         0   \n",
              "\n",
              "   monthsep  size_category  \n",
              "0         0          small  \n",
              "1         0          small  \n",
              "2         0          small  \n",
              "3         0          small  \n",
              "4         0          small  \n",
              "\n",
              "[5 rows x 31 columns]"
            ]
          },
          "execution_count": 3,
          "metadata": {},
          "output_type": "execute_result"
        }
      ],
      "source": [
        "df.head()"
      ]
    },
    {
      "cell_type": "code",
      "execution_count": null,
      "metadata": {
        "id": "CwgVe9X9IcfH",
        "outputId": "57782413-d644-4f6d-fa70-4432cb3da20b"
      },
      "outputs": [
        {
          "data": {
            "text/plain": [
              "(517, 31)"
            ]
          },
          "execution_count": 4,
          "metadata": {},
          "output_type": "execute_result"
        }
      ],
      "source": [
        "df.shape"
      ]
    },
    {
      "cell_type": "code",
      "execution_count": null,
      "metadata": {
        "id": "YQ5PK4lfIcfI",
        "outputId": "e78b409c-c87b-497f-d3d7-c6f2bf8789fe"
      },
      "outputs": [
        {
          "data": {
            "text/plain": [
              "Index(['month', 'day', 'FFMC', 'DMC', 'DC', 'ISI', 'temp', 'RH', 'wind',\n",
              "       'rain', 'area', 'dayfri', 'daymon', 'daysat', 'daysun', 'daythu',\n",
              "       'daytue', 'daywed', 'monthapr', 'monthaug', 'monthdec', 'monthfeb',\n",
              "       'monthjan', 'monthjul', 'monthjun', 'monthmar', 'monthmay', 'monthnov',\n",
              "       'monthoct', 'monthsep', 'size_category'],\n",
              "      dtype='object')"
            ]
          },
          "execution_count": 5,
          "metadata": {},
          "output_type": "execute_result"
        }
      ],
      "source": [
        "df.columns"
      ]
    },
    {
      "cell_type": "code",
      "execution_count": null,
      "metadata": {
        "id": "iNs8m04JIcfI",
        "outputId": "39d8912b-9429-487c-886f-acd84f0c16c3"
      },
      "outputs": [
        {
          "name": "stdout",
          "output_type": "stream",
          "text": [
            "<class 'pandas.core.frame.DataFrame'>\n",
            "RangeIndex: 517 entries, 0 to 516\n",
            "Data columns (total 31 columns):\n",
            " #   Column         Non-Null Count  Dtype  \n",
            "---  ------         --------------  -----  \n",
            " 0   month          517 non-null    object \n",
            " 1   day            517 non-null    object \n",
            " 2   FFMC           517 non-null    float64\n",
            " 3   DMC            517 non-null    float64\n",
            " 4   DC             517 non-null    float64\n",
            " 5   ISI            517 non-null    float64\n",
            " 6   temp           517 non-null    float64\n",
            " 7   RH             517 non-null    int64  \n",
            " 8   wind           517 non-null    float64\n",
            " 9   rain           517 non-null    float64\n",
            " 10  area           517 non-null    float64\n",
            " 11  dayfri         517 non-null    int64  \n",
            " 12  daymon         517 non-null    int64  \n",
            " 13  daysat         517 non-null    int64  \n",
            " 14  daysun         517 non-null    int64  \n",
            " 15  daythu         517 non-null    int64  \n",
            " 16  daytue         517 non-null    int64  \n",
            " 17  daywed         517 non-null    int64  \n",
            " 18  monthapr       517 non-null    int64  \n",
            " 19  monthaug       517 non-null    int64  \n",
            " 20  monthdec       517 non-null    int64  \n",
            " 21  monthfeb       517 non-null    int64  \n",
            " 22  monthjan       517 non-null    int64  \n",
            " 23  monthjul       517 non-null    int64  \n",
            " 24  monthjun       517 non-null    int64  \n",
            " 25  monthmar       517 non-null    int64  \n",
            " 26  monthmay       517 non-null    int64  \n",
            " 27  monthnov       517 non-null    int64  \n",
            " 28  monthoct       517 non-null    int64  \n",
            " 29  monthsep       517 non-null    int64  \n",
            " 30  size_category  517 non-null    object \n",
            "dtypes: float64(8), int64(20), object(3)\n",
            "memory usage: 125.3+ KB\n"
          ]
        }
      ],
      "source": [
        "df.info()"
      ]
    },
    {
      "cell_type": "code",
      "execution_count": null,
      "metadata": {
        "id": "mdYy5EiYIcfJ",
        "outputId": "f1128948-7f4a-4d8d-f855-5fae1c79dba9"
      },
      "outputs": [
        {
          "data": {
            "text/plain": [
              "small    378\n",
              "large    139\n",
              "Name: size_category, dtype: int64"
            ]
          },
          "execution_count": 7,
          "metadata": {},
          "output_type": "execute_result"
        }
      ],
      "source": [
        "df['size_category'].value_counts()"
      ]
    },
    {
      "cell_type": "raw",
      "metadata": {
        "id": "qIEMQPGCIcfJ"
      },
      "source": [
        "#Plotting"
      ]
    },
    {
      "cell_type": "code",
      "execution_count": null,
      "metadata": {
        "scrolled": true,
        "id": "n-u-8KkKIcfK",
        "outputId": "e1cde6a5-a5c4-4b99-a601-b787566be547"
      },
      "outputs": [
        {
          "data": {
            "text/plain": [
              "<AxesSubplot:>"
            ]
          },
          "execution_count": 8,
          "metadata": {},
          "output_type": "execute_result"
        },
        {
          "data": {
            "image/png": "[encoded data removed]",
            "text/plain": [
              "<Figure size 432x288 with 1 Axes>"
            ]
          },
          "metadata": {
            "needs_background": "light"
          },
          "output_type": "display_data"
        }
      ],
      "source": [
        "import seaborn as sns\n",
        "sns.barplot(data=df)"
      ]
    },
    {
      "cell_type": "code",
      "execution_count": null,
      "metadata": {
        "id": "7Olc1S7uIcfL",
        "outputId": "04651880-3e79-48cb-f6fd-ea6f99dcb57b"
      },
      "outputs": [
        {
          "data": {
            "text/plain": [
              "<AxesSubplot:>"
            ]
          },
          "execution_count": 9,
          "metadata": {},
          "output_type": "execute_result"
        },
        {
          "data": {
            "image/png": "[encoded data removed]",
            "text/plain": [
              "<Figure size 432x288 with 1 Axes>"
            ]
          },
          "metadata": {
            "needs_background": "light"
          },
          "output_type": "display_data"
        }
      ],
      "source": [
        "sns.boxplot(data=df)"
      ]
    },
    {
      "cell_type": "code",
      "execution_count": null,
      "metadata": {
        "id": "DIWAtz4lIcfN",
        "outputId": "ed88e4a8-46a0-47e4-fa55-b2b85d635da4"
      },
      "outputs": [
        {
          "data": {
            "text/plain": [
              "(array([[517.,   0.,   0.,   0.,   0.,   0.,   0.,   0.,   0.,   0.],\n",
              "        [517.,   0.,   0.,   0.,   0.,   0.,   0.,   0.,   0.,   0.],\n",
              "        [517.,   0.,   0.,   0.,   0.,   0.,   0.,   0.,   0.,   0.],\n",
              "        [268., 209.,  40.,   0.,   0.,   0.,   0.,   0.,   0.,   0.],\n",
              "        [ 86.,   3.,  15.,  25.,  27.,  91., 219.,  51.,   0.,   0.],\n",
              "        [517.,   0.,   0.,   0.,   0.,   0.,   0.,   0.,   0.,   0.],\n",
              "        [517.,   0.,   0.,   0.,   0.,   0.,   0.,   0.,   0.,   0.],\n",
              "        [517.,   0.,   0.,   0.,   0.,   0.,   0.,   0.,   0.,   0.],\n",
              "        [517.,   0.,   0.,   0.,   0.,   0.,   0.,   0.,   0.,   0.],\n",
              "        [517.,   0.,   0.,   0.,   0.,   0.,   0.,   0.,   0.,   0.],\n",
              "        [508.,   6.,   1.,   0.,   0.,   0.,   1.,   0.,   0.,   1.],\n",
              "        [517.,   0.,   0.,   0.,   0.,   0.,   0.,   0.,   0.,   0.],\n",
              "        [517.,   0.,   0.,   0.,   0.,   0.,   0.,   0.,   0.,   0.],\n",
              "        [517.,   0.,   0.,   0.,   0.,   0.,   0.,   0.,   0.,   0.],\n",
              "        [517.,   0.,   0.,   0.,   0.,   0.,   0.,   0.,   0.,   0.],\n",
              "        [517.,   0.,   0.,   0.,   0.,   0.,   0.,   0.,   0.,   0.],\n",
              "        [517.,   0.,   0.,   0.,   0.,   0.,   0.,   0.,   0.,   0.],\n",
              "        [517.,   0.,   0.,   0.,   0.,   0.,   0.,   0.,   0.,   0.],\n",
              "        [517.,   0.,   0.,   0.,   0.,   0.,   0.,   0.,   0.,   0.],\n",
              "        [517.,   0.,   0.,   0.,   0.,   0.,   0.,   0.,   0.,   0.],\n",
              "        [517.,   0.,   0.,   0.,   0.,   0.,   0.,   0.,   0.,   0.],\n",
              "        [517.,   0.,   0.,   0.,   0.,   0.,   0.,   0.,   0.,   0.],\n",
              "        [517.,   0.,   0.,   0.,   0.,   0.,   0.,   0.,   0.,   0.],\n",
              "        [517.,   0.,   0.,   0.,   0.,   0.,   0.,   0.,   0.,   0.],\n",
              "        [517.,   0.,   0.,   0.,   0.,   0.,   0.,   0.,   0.,   0.],\n",
              "        [517.,   0.,   0.,   0.,   0.,   0.,   0.,   0.,   0.,   0.],\n",
              "        [517.,   0.,   0.,   0.,   0.,   0.,   0.,   0.,   0.,   0.],\n",
              "        [517.,   0.,   0.,   0.,   0.,   0.,   0.,   0.,   0.,   0.],\n",
              "        [517.,   0.,   0.,   0.,   0.,   0.,   0.,   0.,   0.,   0.],\n",
              "        [517.,   0.,   0.,   0.,   0.,   0.,   0.,   0.,   0.,   0.],\n",
              "        [517.,   0.,   0.,   0.,   0.,   0.,   0.,   0.,   0.,   0.]]),\n",
              " array([0.0, 109.08399999999999, 218.16799999999998, 327.25199999999995,\n",
              "        436.33599999999996, 545.42, 654.5039999999999, 763.588,\n",
              "        872.6719999999999, 981.7559999999999, 1090.84], dtype=object),\n",
              " <a list of 31 BarContainer objects>)"
            ]
          },
          "execution_count": 10,
          "metadata": {},
          "output_type": "execute_result"
        },
        {
          "data": {
            "image/png": "[encoded data removed]",
            "text/plain": [
              "<Figure size 432x288 with 1 Axes>"
            ]
          },
          "metadata": {
            "needs_background": "light"
          },
          "output_type": "display_data"
        }
      ],
      "source": [
        "plt.hist(df)"
      ]
    },
    {
      "cell_type": "code",
      "execution_count": null,
      "metadata": {
        "scrolled": true,
        "id": "8Wxa1PemIcfO",
        "outputId": "5a03e8a1-0581-4046-d7c0-d6eb031d4666"
      },
      "outputs": [
        {
          "data": {
            "text/plain": [
              "(array([378.,   0.,   0.,   0.,   0.,   0.,   0.,   0.,   0., 139.]),\n",
              " array([0. , 0.1, 0.2, 0.3, 0.4, 0.5, 0.6, 0.7, 0.8, 0.9, 1. ]),\n",
              " <BarContainer object of 10 artists>)"
            ]
          },
          "execution_count": 11,
          "metadata": {},
          "output_type": "execute_result"
        },
        {
          "data": {
            "image/png": "[encoded data removed]",
            "text/plain": [
              "<Figure size 432x288 with 1 Axes>"
            ]
          },
          "metadata": {
            "needs_background": "light"
          },
          "output_type": "display_data"
        }
      ],
      "source": [
        "plt.hist(df['size_category'])"
      ]
    },
    {
      "cell_type": "code",
      "execution_count": null,
      "metadata": {
        "id": "T4uJ4OzIIcfP",
        "outputId": "13511e7e-2282-4312-f62c-0f689610fe27"
      },
      "outputs": [
        {
          "data": {
            "text/plain": [
              "(array([508.,   6.,   1.,   0.,   0.,   0.,   1.,   0.,   0.,   1.]),\n",
              " array([   0.   ,  109.084,  218.168,  327.252,  436.336,  545.42 ,\n",
              "         654.504,  763.588,  872.672,  981.756, 1090.84 ]),\n",
              " <BarContainer object of 10 artists>)"
            ]
          },
          "execution_count": 12,
          "metadata": {},
          "output_type": "execute_result"
        },
        {
          "data": {
            "image/png": "[encoded data removed]",
            "text/plain": [
              "<Figure size 432x288 with 1 Axes>"
            ]
          },
          "metadata": {
            "needs_background": "light"
          },
          "output_type": "display_data"
        }
      ],
      "source": [
        "plt.hist(df['area'])"
      ]
    },
    {
      "cell_type": "code",
      "execution_count": null,
      "metadata": {
        "scrolled": true,
        "id": "FlNtxhOTIcfP",
        "outputId": "0dfd85c0-88bc-419b-9c38-98780cbb13e1"
      },
      "outputs": [
        {
          "data": {
            "text/plain": [
              "(array([ 14.,  45.,  97.,  93.,  92., 113.,  19.,  26.,   5.,  13.]),\n",
              " array([0.4, 1.3, 2.2, 3.1, 4. , 4.9, 5.8, 6.7, 7.6, 8.5, 9.4]),\n",
              " <BarContainer object of 10 artists>)"
            ]
          },
          "execution_count": 13,
          "metadata": {},
          "output_type": "execute_result"
        },
        {
          "data": {
            "image/png": "[encoded data removed]",
            "text/plain": [
              "<Figure size 432x288 with 1 Axes>"
            ]
          },
          "metadata": {
            "needs_background": "light"
          },
          "output_type": "display_data"
        }
      ],
      "source": [
        "plt.hist(df['wind'])"
      ]
    },
    {
      "cell_type": "code",
      "execution_count": null,
      "metadata": {
        "scrolled": true,
        "id": "mXLZYMDhIcfQ",
        "outputId": "b910debf-cc67-4ebc-fd7c-681763a2a8b9"
      },
      "outputs": [
        {
          "data": {
            "text/plain": [
              "(array([ 18.,  11.,  31.,  47.,  92., 127.,  99.,  55.,  24.,  13.]),\n",
              " array([ 2.2 ,  5.31,  8.42, 11.53, 14.64, 17.75, 20.86, 23.97, 27.08,\n",
              "        30.19, 33.3 ]),\n",
              " <BarContainer object of 10 artists>)"
            ]
          },
          "execution_count": 14,
          "metadata": {},
          "output_type": "execute_result"
        },
        {
          "data": {
            "image/png": "[encoded data removed]",
            "text/plain": [
              "<Figure size 432x288 with 1 Axes>"
            ]
          },
          "metadata": {
            "needs_background": "light"
          },
          "output_type": "display_data"
        }
      ],
      "source": [
        "plt.hist(df['temp'])"
      ]
    },
    {
      "cell_type": "code",
      "execution_count": null,
      "metadata": {
        "id": "RwYOxnSjIcfQ"
      },
      "outputs": [],
      "source": [
        "df['size_category']=pd.get_dummies(df['size_category'])"
      ]
    },
    {
      "cell_type": "code",
      "execution_count": null,
      "metadata": {
        "id": "dJefH0UnIcfQ",
        "outputId": "4f053c53-3e64-45ed-cde8-96dd5dc80e73"
      },
      "outputs": [
        {
          "data": {
            "text/plain": [
              "0    378\n",
              "1    139\n",
              "Name: size_category, dtype: int64"
            ]
          },
          "execution_count": 16,
          "metadata": {},
          "output_type": "execute_result"
        }
      ],
      "source": [
        "df['size_category'].value_counts()"
      ]
    },
    {
      "cell_type": "code",
      "execution_count": null,
      "metadata": {
        "id": "JwU0uUfxIcfR"
      },
      "outputs": [],
      "source": [
        "def norm_data(i):\n",
        "    x=((i-i.min())/(i.max()-i.min()))\n",
        "    return x\n",
        "normalized_data = norm_data(df.iloc[:,2:-1])"
      ]
    },
    {
      "cell_type": "code",
      "execution_count": null,
      "metadata": {
        "id": "NkpjM6jQIcfR",
        "outputId": "74463e19-7b0d-4058-ece8-7d52b6f1ec6b"
      },
      "outputs": [
        {
          "data": {
            "text/html": [
              "<div>\n",
              "<style scoped>\n",
              "    .dataframe tbody tr th:only-of-type {\n",
              "        vertical-align: middle;\n",
              "    }\n",
              "\n",
              "    .dataframe tbody tr th {\n",
              "        vertical-align: top;\n",
              "    }\n",
              "\n",
              "    .dataframe thead th {\n",
              "        text-align: right;\n",
              "    }\n",
              "</style>\n",
              "<table border=\"1\" class=\"dataframe\">\n",
              "  <thead>\n",
              "    <tr style=\"text-align: right;\">\n",
              "      <th></th>\n",
              "      <th>FFMC</th>\n",
              "      <th>DMC</th>\n",
              "      <th>DC</th>\n",
              "      <th>ISI</th>\n",
              "      <th>temp</th>\n",
              "      <th>RH</th>\n",
              "      <th>wind</th>\n",
              "      <th>rain</th>\n",
              "      <th>area</th>\n",
              "      <th>dayfri</th>\n",
              "      <th>...</th>\n",
              "      <th>monthdec</th>\n",
              "      <th>monthfeb</th>\n",
              "      <th>monthjan</th>\n",
              "      <th>monthjul</th>\n",
              "      <th>monthjun</th>\n",
              "      <th>monthmar</th>\n",
              "      <th>monthmay</th>\n",
              "      <th>monthnov</th>\n",
              "      <th>monthoct</th>\n",
              "      <th>monthsep</th>\n",
              "    </tr>\n",
              "  </thead>\n",
              "  <tbody>\n",
              "    <tr>\n",
              "      <th>0</th>\n",
              "      <td>0.870968</td>\n",
              "      <td>0.086492</td>\n",
              "      <td>0.101325</td>\n",
              "      <td>0.090909</td>\n",
              "      <td>0.192926</td>\n",
              "      <td>0.423529</td>\n",
              "      <td>0.700000</td>\n",
              "      <td>0.00000</td>\n",
              "      <td>0.000000</td>\n",
              "      <td>1.0</td>\n",
              "      <td>...</td>\n",
              "      <td>0.0</td>\n",
              "      <td>0.0</td>\n",
              "      <td>0.0</td>\n",
              "      <td>0.0</td>\n",
              "      <td>0.0</td>\n",
              "      <td>1.0</td>\n",
              "      <td>0.0</td>\n",
              "      <td>0.0</td>\n",
              "      <td>0.0</td>\n",
              "      <td>0.0</td>\n",
              "    </tr>\n",
              "    <tr>\n",
              "      <th>1</th>\n",
              "      <td>0.927742</td>\n",
              "      <td>0.118194</td>\n",
              "      <td>0.775419</td>\n",
              "      <td>0.119430</td>\n",
              "      <td>0.508039</td>\n",
              "      <td>0.211765</td>\n",
              "      <td>0.055556</td>\n",
              "      <td>0.00000</td>\n",
              "      <td>0.000000</td>\n",
              "      <td>0.0</td>\n",
              "      <td>...</td>\n",
              "      <td>0.0</td>\n",
              "      <td>0.0</td>\n",
              "      <td>0.0</td>\n",
              "      <td>0.0</td>\n",
              "      <td>0.0</td>\n",
              "      <td>0.0</td>\n",
              "      <td>0.0</td>\n",
              "      <td>0.0</td>\n",
              "      <td>1.0</td>\n",
              "      <td>0.0</td>\n",
              "    </tr>\n",
              "    <tr>\n",
              "      <th>2</th>\n",
              "      <td>0.927742</td>\n",
              "      <td>0.146795</td>\n",
              "      <td>0.796294</td>\n",
              "      <td>0.119430</td>\n",
              "      <td>0.398714</td>\n",
              "      <td>0.211765</td>\n",
              "      <td>0.100000</td>\n",
              "      <td>0.00000</td>\n",
              "      <td>0.000000</td>\n",
              "      <td>0.0</td>\n",
              "      <td>...</td>\n",
              "      <td>0.0</td>\n",
              "      <td>0.0</td>\n",
              "      <td>0.0</td>\n",
              "      <td>0.0</td>\n",
              "      <td>0.0</td>\n",
              "      <td>0.0</td>\n",
              "      <td>0.0</td>\n",
              "      <td>0.0</td>\n",
              "      <td>1.0</td>\n",
              "      <td>0.0</td>\n",
              "    </tr>\n",
              "    <tr>\n",
              "      <th>3</th>\n",
              "      <td>0.941935</td>\n",
              "      <td>0.110958</td>\n",
              "      <td>0.081623</td>\n",
              "      <td>0.160428</td>\n",
              "      <td>0.196141</td>\n",
              "      <td>0.964706</td>\n",
              "      <td>0.400000</td>\n",
              "      <td>0.03125</td>\n",
              "      <td>0.000000</td>\n",
              "      <td>1.0</td>\n",
              "      <td>...</td>\n",
              "      <td>0.0</td>\n",
              "      <td>0.0</td>\n",
              "      <td>0.0</td>\n",
              "      <td>0.0</td>\n",
              "      <td>0.0</td>\n",
              "      <td>1.0</td>\n",
              "      <td>0.0</td>\n",
              "      <td>0.0</td>\n",
              "      <td>0.0</td>\n",
              "      <td>0.0</td>\n",
              "    </tr>\n",
              "    <tr>\n",
              "      <th>4</th>\n",
              "      <td>0.910968</td>\n",
              "      <td>0.172984</td>\n",
              "      <td>0.110590</td>\n",
              "      <td>0.171123</td>\n",
              "      <td>0.295820</td>\n",
              "      <td>0.988235</td>\n",
              "      <td>0.155556</td>\n",
              "      <td>0.00000</td>\n",
              "      <td>0.000000</td>\n",
              "      <td>0.0</td>\n",
              "      <td>...</td>\n",
              "      <td>0.0</td>\n",
              "      <td>0.0</td>\n",
              "      <td>0.0</td>\n",
              "      <td>0.0</td>\n",
              "      <td>0.0</td>\n",
              "      <td>1.0</td>\n",
              "      <td>0.0</td>\n",
              "      <td>0.0</td>\n",
              "      <td>0.0</td>\n",
              "      <td>0.0</td>\n",
              "    </tr>\n",
              "    <tr>\n",
              "      <th>...</th>\n",
              "      <td>...</td>\n",
              "      <td>...</td>\n",
              "      <td>...</td>\n",
              "      <td>...</td>\n",
              "      <td>...</td>\n",
              "      <td>...</td>\n",
              "      <td>...</td>\n",
              "      <td>...</td>\n",
              "      <td>...</td>\n",
              "      <td>...</td>\n",
              "      <td>...</td>\n",
              "      <td>...</td>\n",
              "      <td>...</td>\n",
              "      <td>...</td>\n",
              "      <td>...</td>\n",
              "      <td>...</td>\n",
              "      <td>...</td>\n",
              "      <td>...</td>\n",
              "      <td>...</td>\n",
              "      <td>...</td>\n",
              "      <td>...</td>\n",
              "    </tr>\n",
              "    <tr>\n",
              "      <th>512</th>\n",
              "      <td>0.811613</td>\n",
              "      <td>0.191592</td>\n",
              "      <td>0.771315</td>\n",
              "      <td>0.033868</td>\n",
              "      <td>0.823151</td>\n",
              "      <td>0.200000</td>\n",
              "      <td>0.255556</td>\n",
              "      <td>0.00000</td>\n",
              "      <td>0.005904</td>\n",
              "      <td>0.0</td>\n",
              "      <td>...</td>\n",
              "      <td>0.0</td>\n",
              "      <td>0.0</td>\n",
              "      <td>0.0</td>\n",
              "      <td>0.0</td>\n",
              "      <td>0.0</td>\n",
              "      <td>0.0</td>\n",
              "      <td>0.0</td>\n",
              "      <td>0.0</td>\n",
              "      <td>0.0</td>\n",
              "      <td>0.0</td>\n",
              "    </tr>\n",
              "    <tr>\n",
              "      <th>513</th>\n",
              "      <td>0.811613</td>\n",
              "      <td>0.191592</td>\n",
              "      <td>0.771315</td>\n",
              "      <td>0.033868</td>\n",
              "      <td>0.633441</td>\n",
              "      <td>0.658824</td>\n",
              "      <td>0.600000</td>\n",
              "      <td>0.00000</td>\n",
              "      <td>0.049769</td>\n",
              "      <td>0.0</td>\n",
              "      <td>...</td>\n",
              "      <td>0.0</td>\n",
              "      <td>0.0</td>\n",
              "      <td>0.0</td>\n",
              "      <td>0.0</td>\n",
              "      <td>0.0</td>\n",
              "      <td>0.0</td>\n",
              "      <td>0.0</td>\n",
              "      <td>0.0</td>\n",
              "      <td>0.0</td>\n",
              "      <td>0.0</td>\n",
              "    </tr>\n",
              "    <tr>\n",
              "      <th>514</th>\n",
              "      <td>0.811613</td>\n",
              "      <td>0.191592</td>\n",
              "      <td>0.771315</td>\n",
              "      <td>0.033868</td>\n",
              "      <td>0.610932</td>\n",
              "      <td>0.647059</td>\n",
              "      <td>0.700000</td>\n",
              "      <td>0.00000</td>\n",
              "      <td>0.010231</td>\n",
              "      <td>0.0</td>\n",
              "      <td>...</td>\n",
              "      <td>0.0</td>\n",
              "      <td>0.0</td>\n",
              "      <td>0.0</td>\n",
              "      <td>0.0</td>\n",
              "      <td>0.0</td>\n",
              "      <td>0.0</td>\n",
              "      <td>0.0</td>\n",
              "      <td>0.0</td>\n",
              "      <td>0.0</td>\n",
              "      <td>0.0</td>\n",
              "    </tr>\n",
              "    <tr>\n",
              "      <th>515</th>\n",
              "      <td>0.976774</td>\n",
              "      <td>0.499311</td>\n",
              "      <td>0.711622</td>\n",
              "      <td>0.201426</td>\n",
              "      <td>0.752412</td>\n",
              "      <td>0.317647</td>\n",
              "      <td>0.400000</td>\n",
              "      <td>0.00000</td>\n",
              "      <td>0.000000</td>\n",
              "      <td>0.0</td>\n",
              "      <td>...</td>\n",
              "      <td>0.0</td>\n",
              "      <td>0.0</td>\n",
              "      <td>0.0</td>\n",
              "      <td>0.0</td>\n",
              "      <td>0.0</td>\n",
              "      <td>0.0</td>\n",
              "      <td>0.0</td>\n",
              "      <td>0.0</td>\n",
              "      <td>0.0</td>\n",
              "      <td>0.0</td>\n",
              "    </tr>\n",
              "    <tr>\n",
              "      <th>516</th>\n",
              "      <td>0.784516</td>\n",
              "      <td>0.006547</td>\n",
              "      <td>0.115867</td>\n",
              "      <td>0.019608</td>\n",
              "      <td>0.308682</td>\n",
              "      <td>0.188235</td>\n",
              "      <td>0.455556</td>\n",
              "      <td>0.00000</td>\n",
              "      <td>0.000000</td>\n",
              "      <td>0.0</td>\n",
              "      <td>...</td>\n",
              "      <td>0.0</td>\n",
              "      <td>0.0</td>\n",
              "      <td>0.0</td>\n",
              "      <td>0.0</td>\n",
              "      <td>0.0</td>\n",
              "      <td>0.0</td>\n",
              "      <td>0.0</td>\n",
              "      <td>1.0</td>\n",
              "      <td>0.0</td>\n",
              "      <td>0.0</td>\n",
              "    </tr>\n",
              "  </tbody>\n",
              "</table>\n",
              "<p>517 rows × 28 columns</p>\n",
              "</div>"
            ],
            "text/plain": [
              "         FFMC       DMC        DC       ISI      temp        RH      wind  \\\n",
              "0    0.870968  0.086492  0.101325  0.090909  0.192926  0.423529  0.700000   \n",
              "1    0.927742  0.118194  0.775419  0.119430  0.508039  0.211765  0.055556   \n",
              "2    0.927742  0.146795  0.796294  0.119430  0.398714  0.211765  0.100000   \n",
              "3    0.941935  0.110958  0.081623  0.160428  0.196141  0.964706  0.400000   \n",
              "4    0.910968  0.172984  0.110590  0.171123  0.295820  0.988235  0.155556   \n",
              "..        ...       ...       ...       ...       ...       ...       ...   \n",
              "512  0.811613  0.191592  0.771315  0.033868  0.823151  0.200000  0.255556   \n",
              "513  0.811613  0.191592  0.771315  0.033868  0.633441  0.658824  0.600000   \n",
              "514  0.811613  0.191592  0.771315  0.033868  0.610932  0.647059  0.700000   \n",
              "515  0.976774  0.499311  0.711622  0.201426  0.752412  0.317647  0.400000   \n",
              "516  0.784516  0.006547  0.115867  0.019608  0.308682  0.188235  0.455556   \n",
              "\n",
              "        rain      area  dayfri  ...  monthdec  monthfeb  monthjan  monthjul  \\\n",
              "0    0.00000  0.000000     1.0  ...       0.0       0.0       0.0       0.0   \n",
              "1    0.00000  0.000000     0.0  ...       0.0       0.0       0.0       0.0   \n",
              "2    0.00000  0.000000     0.0  ...       0.0       0.0       0.0       0.0   \n",
              "3    0.03125  0.000000     1.0  ...       0.0       0.0       0.0       0.0   \n",
              "4    0.00000  0.000000     0.0  ...       0.0       0.0       0.0       0.0   \n",
              "..       ...       ...     ...  ...       ...       ...       ...       ...   \n",
              "512  0.00000  0.005904     0.0  ...       0.0       0.0       0.0       0.0   \n",
              "513  0.00000  0.049769     0.0  ...       0.0       0.0       0.0       0.0   \n",
              "514  0.00000  0.010231     0.0  ...       0.0       0.0       0.0       0.0   \n",
              "515  0.00000  0.000000     0.0  ...       0.0       0.0       0.0       0.0   \n",
              "516  0.00000  0.000000     0.0  ...       0.0       0.0       0.0       0.0   \n",
              "\n",
              "     monthjun  monthmar  monthmay  monthnov  monthoct  monthsep  \n",
              "0         0.0       1.0       0.0       0.0       0.0       0.0  \n",
              "1         0.0       0.0       0.0       0.0       1.0       0.0  \n",
              "2         0.0       0.0       0.0       0.0       1.0       0.0  \n",
              "3         0.0       1.0       0.0       0.0       0.0       0.0  \n",
              "4         0.0       1.0       0.0       0.0       0.0       0.0  \n",
              "..        ...       ...       ...       ...       ...       ...  \n",
              "512       0.0       0.0       0.0       0.0       0.0       0.0  \n",
              "513       0.0       0.0       0.0       0.0       0.0       0.0  \n",
              "514       0.0       0.0       0.0       0.0       0.0       0.0  \n",
              "515       0.0       0.0       0.0       0.0       0.0       0.0  \n",
              "516       0.0       0.0       0.0       1.0       0.0       0.0  \n",
              "\n",
              "[517 rows x 28 columns]"
            ]
          },
          "execution_count": 18,
          "metadata": {},
          "output_type": "execute_result"
        }
      ],
      "source": [
        "normalized_data"
      ]
    },
    {
      "cell_type": "code",
      "execution_count": null,
      "metadata": {
        "id": "JZGYHgHuIcfS"
      },
      "outputs": [],
      "source": [
        "X=normalized_data\n",
        "y=df['size_category']"
      ]
    },
    {
      "cell_type": "code",
      "execution_count": null,
      "metadata": {
        "id": "AJotitSqIcfS",
        "outputId": "b9e8fedf-5358-4133-ac64-36a25799e0e0"
      },
      "outputs": [
        {
          "data": {
            "text/html": [
              "<div>\n",
              "<style scoped>\n",
              "    .dataframe tbody tr th:only-of-type {\n",
              "        vertical-align: middle;\n",
              "    }\n",
              "\n",
              "    .dataframe tbody tr th {\n",
              "        vertical-align: top;\n",
              "    }\n",
              "\n",
              "    .dataframe thead th {\n",
              "        text-align: right;\n",
              "    }\n",
              "</style>\n",
              "<table border=\"1\" class=\"dataframe\">\n",
              "  <thead>\n",
              "    <tr style=\"text-align: right;\">\n",
              "      <th></th>\n",
              "      <th>FFMC</th>\n",
              "      <th>DMC</th>\n",
              "      <th>DC</th>\n",
              "      <th>ISI</th>\n",
              "      <th>temp</th>\n",
              "      <th>RH</th>\n",
              "      <th>wind</th>\n",
              "      <th>rain</th>\n",
              "      <th>area</th>\n",
              "      <th>dayfri</th>\n",
              "      <th>...</th>\n",
              "      <th>monthdec</th>\n",
              "      <th>monthfeb</th>\n",
              "      <th>monthjan</th>\n",
              "      <th>monthjul</th>\n",
              "      <th>monthjun</th>\n",
              "      <th>monthmar</th>\n",
              "      <th>monthmay</th>\n",
              "      <th>monthnov</th>\n",
              "      <th>monthoct</th>\n",
              "      <th>monthsep</th>\n",
              "    </tr>\n",
              "  </thead>\n",
              "  <tbody>\n",
              "    <tr>\n",
              "      <th>0</th>\n",
              "      <td>0.870968</td>\n",
              "      <td>0.086492</td>\n",
              "      <td>0.101325</td>\n",
              "      <td>0.090909</td>\n",
              "      <td>0.192926</td>\n",
              "      <td>0.423529</td>\n",
              "      <td>0.700000</td>\n",
              "      <td>0.00000</td>\n",
              "      <td>0.0</td>\n",
              "      <td>1.0</td>\n",
              "      <td>...</td>\n",
              "      <td>0.0</td>\n",
              "      <td>0.0</td>\n",
              "      <td>0.0</td>\n",
              "      <td>0.0</td>\n",
              "      <td>0.0</td>\n",
              "      <td>1.0</td>\n",
              "      <td>0.0</td>\n",
              "      <td>0.0</td>\n",
              "      <td>0.0</td>\n",
              "      <td>0.0</td>\n",
              "    </tr>\n",
              "    <tr>\n",
              "      <th>1</th>\n",
              "      <td>0.927742</td>\n",
              "      <td>0.118194</td>\n",
              "      <td>0.775419</td>\n",
              "      <td>0.119430</td>\n",
              "      <td>0.508039</td>\n",
              "      <td>0.211765</td>\n",
              "      <td>0.055556</td>\n",
              "      <td>0.00000</td>\n",
              "      <td>0.0</td>\n",
              "      <td>0.0</td>\n",
              "      <td>...</td>\n",
              "      <td>0.0</td>\n",
              "      <td>0.0</td>\n",
              "      <td>0.0</td>\n",
              "      <td>0.0</td>\n",
              "      <td>0.0</td>\n",
              "      <td>0.0</td>\n",
              "      <td>0.0</td>\n",
              "      <td>0.0</td>\n",
              "      <td>1.0</td>\n",
              "      <td>0.0</td>\n",
              "    </tr>\n",
              "    <tr>\n",
              "      <th>2</th>\n",
              "      <td>0.927742</td>\n",
              "      <td>0.146795</td>\n",
              "      <td>0.796294</td>\n",
              "      <td>0.119430</td>\n",
              "      <td>0.398714</td>\n",
              "      <td>0.211765</td>\n",
              "      <td>0.100000</td>\n",
              "      <td>0.00000</td>\n",
              "      <td>0.0</td>\n",
              "      <td>0.0</td>\n",
              "      <td>...</td>\n",
              "      <td>0.0</td>\n",
              "      <td>0.0</td>\n",
              "      <td>0.0</td>\n",
              "      <td>0.0</td>\n",
              "      <td>0.0</td>\n",
              "      <td>0.0</td>\n",
              "      <td>0.0</td>\n",
              "      <td>0.0</td>\n",
              "      <td>1.0</td>\n",
              "      <td>0.0</td>\n",
              "    </tr>\n",
              "    <tr>\n",
              "      <th>3</th>\n",
              "      <td>0.941935</td>\n",
              "      <td>0.110958</td>\n",
              "      <td>0.081623</td>\n",
              "      <td>0.160428</td>\n",
              "      <td>0.196141</td>\n",
              "      <td>0.964706</td>\n",
              "      <td>0.400000</td>\n",
              "      <td>0.03125</td>\n",
              "      <td>0.0</td>\n",
              "      <td>1.0</td>\n",
              "      <td>...</td>\n",
              "      <td>0.0</td>\n",
              "      <td>0.0</td>\n",
              "      <td>0.0</td>\n",
              "      <td>0.0</td>\n",
              "      <td>0.0</td>\n",
              "      <td>1.0</td>\n",
              "      <td>0.0</td>\n",
              "      <td>0.0</td>\n",
              "      <td>0.0</td>\n",
              "      <td>0.0</td>\n",
              "    </tr>\n",
              "    <tr>\n",
              "      <th>4</th>\n",
              "      <td>0.910968</td>\n",
              "      <td>0.172984</td>\n",
              "      <td>0.110590</td>\n",
              "      <td>0.171123</td>\n",
              "      <td>0.295820</td>\n",
              "      <td>0.988235</td>\n",
              "      <td>0.155556</td>\n",
              "      <td>0.00000</td>\n",
              "      <td>0.0</td>\n",
              "      <td>0.0</td>\n",
              "      <td>...</td>\n",
              "      <td>0.0</td>\n",
              "      <td>0.0</td>\n",
              "      <td>0.0</td>\n",
              "      <td>0.0</td>\n",
              "      <td>0.0</td>\n",
              "      <td>1.0</td>\n",
              "      <td>0.0</td>\n",
              "      <td>0.0</td>\n",
              "      <td>0.0</td>\n",
              "      <td>0.0</td>\n",
              "    </tr>\n",
              "  </tbody>\n",
              "</table>\n",
              "<p>5 rows × 28 columns</p>\n",
              "</div>"
            ],
            "text/plain": [
              "       FFMC       DMC        DC       ISI      temp        RH      wind  \\\n",
              "0  0.870968  0.086492  0.101325  0.090909  0.192926  0.423529  0.700000   \n",
              "1  0.927742  0.118194  0.775419  0.119430  0.508039  0.211765  0.055556   \n",
              "2  0.927742  0.146795  0.796294  0.119430  0.398714  0.211765  0.100000   \n",
              "3  0.941935  0.110958  0.081623  0.160428  0.196141  0.964706  0.400000   \n",
              "4  0.910968  0.172984  0.110590  0.171123  0.295820  0.988235  0.155556   \n",
              "\n",
              "      rain  area  dayfri  ...  monthdec  monthfeb  monthjan  monthjul  \\\n",
              "0  0.00000   0.0     1.0  ...       0.0       0.0       0.0       0.0   \n",
              "1  0.00000   0.0     0.0  ...       0.0       0.0       0.0       0.0   \n",
              "2  0.00000   0.0     0.0  ...       0.0       0.0       0.0       0.0   \n",
              "3  0.03125   0.0     1.0  ...       0.0       0.0       0.0       0.0   \n",
              "4  0.00000   0.0     0.0  ...       0.0       0.0       0.0       0.0   \n",
              "\n",
              "   monthjun  monthmar  monthmay  monthnov  monthoct  monthsep  \n",
              "0       0.0       1.0       0.0       0.0       0.0       0.0  \n",
              "1       0.0       0.0       0.0       0.0       1.0       0.0  \n",
              "2       0.0       0.0       0.0       0.0       1.0       0.0  \n",
              "3       0.0       1.0       0.0       0.0       0.0       0.0  \n",
              "4       0.0       1.0       0.0       0.0       0.0       0.0  \n",
              "\n",
              "[5 rows x 28 columns]"
            ]
          },
          "execution_count": 20,
          "metadata": {},
          "output_type": "execute_result"
        }
      ],
      "source": [
        "X.head()"
      ]
    },
    {
      "cell_type": "code",
      "execution_count": null,
      "metadata": {
        "id": "cF_RCtssIcfS",
        "outputId": "ad7fb4cf-0146-41ba-8ee8-da82d7259cbc"
      },
      "outputs": [
        {
          "data": {
            "text/plain": [
              "0    0\n",
              "1    0\n",
              "2    0\n",
              "3    0\n",
              "4    0\n",
              "Name: size_category, dtype: uint8"
            ]
          },
          "execution_count": 21,
          "metadata": {},
          "output_type": "execute_result"
        }
      ],
      "source": [
        "y.head()"
      ]
    },
    {
      "cell_type": "code",
      "execution_count": null,
      "metadata": {
        "id": "aqJmGOrVIcfT"
      },
      "outputs": [],
      "source": [
        "from sklearn.model_selection import train_test_split"
      ]
    },
    {
      "cell_type": "code",
      "execution_count": null,
      "metadata": {
        "id": "I7JDSMk3IcfT"
      },
      "outputs": [],
      "source": [
        "X_train,X_test,y_train,y_test=train_test_split(X,y,test_size=0.3,random_state=42)"
      ]
    },
    {
      "cell_type": "code",
      "execution_count": null,
      "metadata": {
        "id": "35hMTHiBIcfT",
        "outputId": "a0b04b73-73d8-4366-d524-117a898d9e7a"
      },
      "outputs": [
        {
          "data": {
            "text/plain": [
              "28"
            ]
          },
          "execution_count": 24,
          "metadata": {},
          "output_type": "execute_result"
        }
      ],
      "source": [
        "n_features=X.shape[1]\n",
        "n_features"
      ]
    },
    {
      "cell_type": "code",
      "execution_count": null,
      "metadata": {
        "id": "ndfAQ_l2IcfU",
        "outputId": "e64eccff-19bf-4878-d111-905dc4e335b1"
      },
      "outputs": [
        {
          "data": {
            "text/plain": [
              "((361, 28), (156, 28), (361,), (156,))"
            ]
          },
          "execution_count": 25,
          "metadata": {},
          "output_type": "execute_result"
        }
      ],
      "source": [
        "X_train.shape,X_test.shape,y_train.shape,y_test.shape"
      ]
    },
    {
      "cell_type": "code",
      "execution_count": null,
      "metadata": {
        "scrolled": true,
        "id": "tI1AhCOaIcfU",
        "outputId": "c5519957-e527-4524-c9bc-6e3ea6b53878"
      },
      "outputs": [
        {
          "name": "stdout",
          "output_type": "stream",
          "text": [
            "Requirement already satisfied: tensorflow in c:\\users\\mayekar\\anaconda3\\lib\\site-packages (2.5.1)\n",
            "Requirement already satisfied: opt-einsum~=3.3.0 in c:\\users\\mayekar\\anaconda3\\lib\\site-packages (from tensorflow) (3.3.0)\n",
            "Requirement already satisfied: absl-py~=0.10 in c:\\users\\mayekar\\anaconda3\\lib\\site-packages (from tensorflow) (0.13.0)\n",
            "Requirement already satisfied: grpcio~=1.34.0 in c:\\users\\mayekar\\anaconda3\\lib\\site-packages (from tensorflow) (1.34.1)\n",
            "Requirement already satisfied: protobuf>=3.9.2 in c:\\users\\mayekar\\anaconda3\\lib\\site-packages (from tensorflow) (3.17.3)\n",
            "Requirement already satisfied: termcolor~=1.1.0 in c:\\users\\mayekar\\anaconda3\\lib\\site-packages (from tensorflow) (1.1.0)\n",
            "Requirement already satisfied: wrapt~=1.12.1 in c:\\users\\mayekar\\anaconda3\\lib\\site-packages (from tensorflow) (1.12.1)\n",
            "Requirement already satisfied: flatbuffers~=1.12.0 in c:\\users\\mayekar\\anaconda3\\lib\\site-packages (from tensorflow) (1.12)\n",
            "Requirement already satisfied: numpy~=1.19.2 in c:\\users\\mayekar\\anaconda3\\lib\\site-packages (from tensorflow) (1.19.5)\n",
            "Requirement already satisfied: gast==0.4.0 in c:\\users\\mayekar\\anaconda3\\lib\\site-packages (from tensorflow) (0.4.0)\n",
            "Requirement already satisfied: keras-preprocessing~=1.1.2 in c:\\users\\mayekar\\anaconda3\\lib\\site-packages (from tensorflow) (1.1.2)\n",
            "Requirement already satisfied: astunparse~=1.6.3 in c:\\users\\mayekar\\anaconda3\\lib\\site-packages (from tensorflow) (1.6.3)\n",
            "Requirement already satisfied: typing-extensions~=3.7.4 in c:\\users\\mayekar\\anaconda3\\lib\\site-packages (from tensorflow) (3.7.4.3)\n",
            "Requirement already satisfied: google-pasta~=0.2 in c:\\users\\mayekar\\anaconda3\\lib\\site-packages (from tensorflow) (0.2.0)\n",
            "Requirement already satisfied: tensorboard~=2.5 in c:\\users\\mayekar\\anaconda3\\lib\\site-packages (from tensorflow) (2.6.0)\n",
            "Requirement already satisfied: keras-nightly~=2.5.0.dev in c:\\users\\mayekar\\anaconda3\\lib\\site-packages (from tensorflow) (2.5.0.dev2021032900)\n",
            "Requirement already satisfied: tensorflow-estimator<2.6.0,>=2.5.0 in c:\\users\\mayekar\\anaconda3\\lib\\site-packages (from tensorflow) (2.5.0)\n",
            "Requirement already satisfied: wheel~=0.35 in c:\\users\\mayekar\\anaconda3\\lib\\site-packages (from tensorflow) (0.36.2)\n",
            "Requirement already satisfied: six~=1.15.0 in c:\\users\\mayekar\\anaconda3\\lib\\site-packages (from tensorflow) (1.15.0)\n",
            "Requirement already satisfied: h5py~=3.1.0 in c:\\users\\mayekar\\anaconda3\\lib\\site-packages (from tensorflow) (3.1.0)\n",
            "Requirement already satisfied: tensorboard-plugin-wit>=1.6.0 in c:\\users\\mayekar\\anaconda3\\lib\\site-packages (from tensorboard~=2.5->tensorflow) (1.8.0)\n",
            "Requirement already satisfied: werkzeug>=0.11.15 in c:\\users\\mayekar\\anaconda3\\lib\\site-packages (from tensorboard~=2.5->tensorflow) (1.0.1)\n",
            "Requirement already satisfied: tensorboard-data-server<0.7.0,>=0.6.0 in c:\\users\\mayekar\\anaconda3\\lib\\site-packages (from tensorboard~=2.5->tensorflow) (0.6.1)\n",
            "Requirement already satisfied: markdown>=2.6.8 in c:\\users\\mayekar\\anaconda3\\lib\\site-packages (from tensorboard~=2.5->tensorflow) (3.3.4)\n",
            "Requirement already satisfied: google-auth-oauthlib<0.5,>=0.4.1 in c:\\users\\mayekar\\anaconda3\\lib\\site-packages (from tensorboard~=2.5->tensorflow) (0.4.5)\n",
            "Requirement already satisfied: requests<3,>=2.21.0 in c:\\users\\mayekar\\anaconda3\\lib\\site-packages (from tensorboard~=2.5->tensorflow) (2.25.1)\n",
            "Requirement already satisfied: setuptools>=41.0.0 in c:\\users\\mayekar\\anaconda3\\lib\\site-packages (from tensorboard~=2.5->tensorflow) (52.0.0.post20210125)\n",
            "Requirement already satisfied: google-auth<2,>=1.6.3 in c:\\users\\mayekar\\anaconda3\\lib\\site-packages (from tensorboard~=2.5->tensorflow) (1.34.0)\n",
            "Requirement already satisfied: pyasn1-modules>=0.2.1 in c:\\users\\mayekar\\anaconda3\\lib\\site-packages (from google-auth<2,>=1.6.3->tensorboard~=2.5->tensorflow) (0.2.8)\n",
            "Requirement already satisfied: cachetools<5.0,>=2.0.0 in c:\\users\\mayekar\\anaconda3\\lib\\site-packages (from google-auth<2,>=1.6.3->tensorboard~=2.5->tensorflow) (4.2.2)\n",
            "Requirement already satisfied: rsa<5,>=3.1.4 in c:\\users\\mayekar\\anaconda3\\lib\\site-packages (from google-auth<2,>=1.6.3->tensorboard~=2.5->tensorflow) (4.7.2)\n",
            "Requirement already satisfied: requests-oauthlib>=0.7.0 in c:\\users\\mayekar\\anaconda3\\lib\\site-packages (from google-auth-oauthlib<0.5,>=0.4.1->tensorboard~=2.5->tensorflow) (1.3.0)\n",
            "Requirement already satisfied: pyasn1<0.5.0,>=0.4.6 in c:\\users\\mayekar\\anaconda3\\lib\\site-packages (from pyasn1-modules>=0.2.1->google-auth<2,>=1.6.3->tensorboard~=2.5->tensorflow) (0.4.8)\n",
            "Requirement already satisfied: chardet<5,>=3.0.2 in c:\\users\\mayekar\\anaconda3\\lib\\site-packages (from requests<3,>=2.21.0->tensorboard~=2.5->tensorflow) (4.0.0)\n",
            "Requirement already satisfied: idna<3,>=2.5 in c:\\users\\mayekar\\anaconda3\\lib\\site-packages (from requests<3,>=2.21.0->tensorboard~=2.5->tensorflow) (2.10)\n",
            "Requirement already satisfied: certifi>=2017.4.17 in c:\\users\\mayekar\\anaconda3\\lib\\site-packages (from requests<3,>=2.21.0->tensorboard~=2.5->tensorflow) (2020.12.5)\n",
            "Requirement already satisfied: urllib3<1.27,>=1.21.1 in c:\\users\\mayekar\\anaconda3\\lib\\site-packages (from requests<3,>=2.21.0->tensorboard~=2.5->tensorflow) (1.26.4)\n",
            "Requirement already satisfied: oauthlib>=3.0.0 in c:\\users\\mayekar\\anaconda3\\lib\\site-packages (from requests-oauthlib>=0.7.0->google-auth-oauthlib<0.5,>=0.4.1->tensorboard~=2.5->tensorflow) (3.1.1)\n"
          ]
        }
      ],
      "source": [
        "!pip install tensorflow"
      ]
    },
    {
      "cell_type": "code",
      "execution_count": null,
      "metadata": {
        "id": "SfkTRffHIcfU"
      },
      "outputs": [],
      "source": [
        "import tensorflow as tf\n",
        "from tensorflow import keras\n",
        "import tensorflow\n",
        "from tensorflow.keras import Sequential\n",
        "from tensorflow.keras.optimizers import RMSprop"
      ]
    },
    {
      "cell_type": "code",
      "execution_count": null,
      "metadata": {
        "id": "RiHF7ET1IcfU"
      },
      "outputs": [],
      "source": [
        "optmizer=RMSprop(0.001) #0.001 is a learning rate\n",
        "model=keras.Sequential([\n",
        "    keras.layers.Dense(12,input_dim=28,activation='relu'),\n",
        "    keras.layers.Dense(50,activation='sigmoid'),\n",
        "    keras.layers.Dense(1,activation='sigmoid')\n",
        "])\n",
        "model.compile(optimizer=optmizer,loss='binary_crossentropy',metrics=['accuracy'])"
      ]
    },
    {
      "cell_type": "code",
      "execution_count": null,
      "metadata": {
        "id": "cNoY3gtOIcfV"
      },
      "outputs": [],
      "source": [
        "seed_val=42\n",
        "import random\n",
        "random.seed(seed_val)\n",
        "tensorflow.random.set_seed(seed_val)"
      ]
    },
    {
      "cell_type": "code",
      "execution_count": null,
      "metadata": {
        "id": "mMXXym7GIcfV",
        "outputId": "5623df08-f5ae-443e-da27-2ab55aeddf2a"
      },
      "outputs": [
        {
          "name": "stdout",
          "output_type": "stream",
          "text": [
            "Epoch 1/10\n",
            "12/12 [==============================] - 5s 14ms/step - loss: 0.7913 - accuracy: 0.2715\n",
            "Epoch 2/10\n",
            "12/12 [==============================] - 0s 6ms/step - loss: 0.6823 - accuracy: 0.5762\n",
            "Epoch 3/10\n",
            "12/12 [==============================] - 0s 5ms/step - loss: 0.6296 - accuracy: 0.7285\n",
            "Epoch 4/10\n",
            "12/12 [==============================] - 0s 2ms/step - loss: 0.6014 - accuracy: 0.7285\n",
            "Epoch 5/10\n",
            "12/12 [==============================] - 0s 1ms/step - loss: 0.5881 - accuracy: 0.7285\n",
            "Epoch 6/10\n",
            "12/12 [==============================] - 0s 1ms/step - loss: 0.5856 - accuracy: 0.7285\n",
            "Epoch 7/10\n",
            "12/12 [==============================] - 0s 2ms/step - loss: 0.5849 - accuracy: 0.7285\n",
            "Epoch 8/10\n",
            "12/12 [==============================] - 0s 2ms/step - loss: 0.5839 - accuracy: 0.7285\n",
            "Epoch 9/10\n",
            "12/12 [==============================] - 0s 2ms/step - loss: 0.5829 - accuracy: 0.7285\n",
            "Epoch 10/10\n",
            "12/12 [==============================] - ETA: 0s - loss: 0.6232 - accuracy: 0.68 - 0s 1ms/step - loss: 0.5833 - accuracy: 0.7285\n"
          ]
        },
        {
          "data": {
            "text/plain": [
              "<tensorflow.python.keras.callbacks.History at 0x1167e42b850>"
            ]
          },
          "execution_count": 30,
          "metadata": {},
          "output_type": "execute_result"
        }
      ],
      "source": [
        "model.fit(X_train,y_train,epochs=10)"
      ]
    },
    {
      "cell_type": "code",
      "execution_count": null,
      "metadata": {
        "id": "Nd2iYVVEIcfV",
        "outputId": "570c072a-edd6-48b6-a56c-150db09afba8"
      },
      "outputs": [
        {
          "name": "stdout",
          "output_type": "stream",
          "text": [
            "5/5 [==============================] - 0s 2ms/step - loss: 0.5750 - accuracy: 0.7372\n"
          ]
        },
        {
          "data": {
            "text/plain": [
              "[0.5750129818916321, 0.7371794581413269]"
            ]
          },
          "execution_count": 31,
          "metadata": {},
          "output_type": "execute_result"
        }
      ],
      "source": [
        "model.evaluate(X_test,y_test)"
      ]
    },
    {
      "cell_type": "code",
      "execution_count": null,
      "metadata": {
        "id": "ltnC05YVIcfV"
      },
      "outputs": [],
      "source": [
        "y_pred=model.predict(X_test)"
      ]
    },
    {
      "cell_type": "code",
      "execution_count": null,
      "metadata": {
        "id": "Zuz1c_kPIcfW",
        "outputId": "d8881a52-317e-4332-e706-308ad87bb6ad"
      },
      "outputs": [
        {
          "data": {
            "text/plain": [
              "array([0.2508545], dtype=float32)"
            ]
          },
          "execution_count": 33,
          "metadata": {},
          "output_type": "execute_result"
        }
      ],
      "source": [
        "y_pred[25]"
      ]
    },
    {
      "cell_type": "code",
      "execution_count": null,
      "metadata": {
        "id": "NauI962DIcfW",
        "outputId": "4378d997-6ea6-4c68-add0-ef0cecd55b45"
      },
      "outputs": [
        {
          "data": {
            "text/plain": [
              "1"
            ]
          },
          "execution_count": 34,
          "metadata": {},
          "output_type": "execute_result"
        }
      ],
      "source": [
        "y_test[192]"
      ]
    },
    {
      "cell_type": "code",
      "execution_count": null,
      "metadata": {
        "id": "6c-5oBzlIcfW",
        "outputId": "beeae9e0-1196-44ac-8aa3-14c5cd27c428"
      },
      "outputs": [
        {
          "data": {
            "text/plain": [
              "array([[0.27201807],\n",
              "       [0.2665336 ],\n",
              "       [0.25936812],\n",
              "       [0.2801558 ],\n",
              "       [0.25051594],\n",
              "       [0.28578097],\n",
              "       [0.29221147],\n",
              "       [0.24873382],\n",
              "       [0.29449087],\n",
              "       [0.2423633 ],\n",
              "       [0.26223928],\n",
              "       [0.28145775],\n",
              "       [0.27581465],\n",
              "       [0.26426506],\n",
              "       [0.29101092],\n",
              "       [0.2770473 ],\n",
              "       [0.2611769 ],\n",
              "       [0.2855906 ],\n",
              "       [0.26464063],\n",
              "       [0.26343372],\n",
              "       [0.28416866],\n",
              "       [0.28561184],\n",
              "       [0.3118114 ],\n",
              "       [0.2822652 ],\n",
              "       [0.27921742],\n",
              "       [0.2508545 ],\n",
              "       [0.2840967 ],\n",
              "       [0.24855888],\n",
              "       [0.28716952],\n",
              "       [0.2796035 ],\n",
              "       [0.24875152],\n",
              "       [0.29727292],\n",
              "       [0.2846542 ],\n",
              "       [0.29254353],\n",
              "       [0.2951107 ],\n",
              "       [0.2642901 ],\n",
              "       [0.24457878],\n",
              "       [0.27085334],\n",
              "       [0.27447176],\n",
              "       [0.24877617],\n",
              "       [0.2642594 ],\n",
              "       [0.2819217 ],\n",
              "       [0.24897128],\n",
              "       [0.28477335],\n",
              "       [0.27027065],\n",
              "       [0.266149  ],\n",
              "       [0.27874154],\n",
              "       [0.2510837 ],\n",
              "       [0.2859776 ],\n",
              "       [0.25533777],\n",
              "       [0.2671705 ],\n",
              "       [0.31487882],\n",
              "       [0.27128956],\n",
              "       [0.24972692],\n",
              "       [0.252079  ],\n",
              "       [0.29333055],\n",
              "       [0.2729826 ],\n",
              "       [0.2764256 ],\n",
              "       [0.28672272],\n",
              "       [0.2833965 ],\n",
              "       [0.24838892],\n",
              "       [0.2755335 ],\n",
              "       [0.25019735],\n",
              "       [0.2727468 ],\n",
              "       [0.2622605 ],\n",
              "       [0.28446093],\n",
              "       [0.2732715 ],\n",
              "       [0.26184827],\n",
              "       [0.27175176],\n",
              "       [0.28437048],\n",
              "       [0.29595473],\n",
              "       [0.30297434],\n",
              "       [0.26401615],\n",
              "       [0.2674456 ],\n",
              "       [0.26272586],\n",
              "       [0.2721368 ],\n",
              "       [0.2769924 ],\n",
              "       [0.24594942],\n",
              "       [0.2680226 ],\n",
              "       [0.26976603],\n",
              "       [0.24348354],\n",
              "       [0.27351886],\n",
              "       [0.26223928],\n",
              "       [0.27105463],\n",
              "       [0.28354782],\n",
              "       [0.29207647],\n",
              "       [0.28278372],\n",
              "       [0.27896947],\n",
              "       [0.28574127],\n",
              "       [0.27937907],\n",
              "       [0.2500711 ],\n",
              "       [0.26606655],\n",
              "       [0.25443247],\n",
              "       [0.26002496],\n",
              "       [0.2757991 ],\n",
              "       [0.24869946],\n",
              "       [0.2961838 ],\n",
              "       [0.2639655 ],\n",
              "       [0.2675442 ],\n",
              "       [0.25039363],\n",
              "       [0.28533006],\n",
              "       [0.25684243],\n",
              "       [0.24649465],\n",
              "       [0.28260958],\n",
              "       [0.2954399 ],\n",
              "       [0.286896  ],\n",
              "       [0.27248752],\n",
              "       [0.26794857],\n",
              "       [0.26917252],\n",
              "       [0.27426696],\n",
              "       [0.28181565],\n",
              "       [0.29953998],\n",
              "       [0.29383132],\n",
              "       [0.29560465],\n",
              "       [0.26133376],\n",
              "       [0.28153002],\n",
              "       [0.28291225],\n",
              "       [0.28353363],\n",
              "       [0.26554537],\n",
              "       [0.27535033],\n",
              "       [0.25332177],\n",
              "       [0.27898863],\n",
              "       [0.2727997 ],\n",
              "       [0.27126515],\n",
              "       [0.24770713],\n",
              "       [0.27288276],\n",
              "       [0.26926845],\n",
              "       [0.2864527 ],\n",
              "       [0.29450023],\n",
              "       [0.28610152],\n",
              "       [0.24269563],\n",
              "       [0.26642153],\n",
              "       [0.29030836],\n",
              "       [0.24722236],\n",
              "       [0.27106315],\n",
              "       [0.2735337 ],\n",
              "       [0.2684183 ],\n",
              "       [0.2726863 ],\n",
              "       [0.24956873],\n",
              "       [0.2823794 ],\n",
              "       [0.28382182],\n",
              "       [0.28653207],\n",
              "       [0.2773013 ],\n",
              "       [0.2885097 ],\n",
              "       [0.26546365],\n",
              "       [0.27524233],\n",
              "       [0.26797682],\n",
              "       [0.2532465 ],\n",
              "       [0.26853633],\n",
              "       [0.27005655],\n",
              "       [0.2656018 ],\n",
              "       [0.27549562],\n",
              "       [0.28165084],\n",
              "       [0.2514247 ],\n",
              "       [0.2588048 ],\n",
              "       [0.26228553]], dtype=float32)"
            ]
          },
          "execution_count": 35,
          "metadata": {},
          "output_type": "execute_result"
        }
      ],
      "source": [
        "y_pred"
      ]
    },
    {
      "cell_type": "code",
      "execution_count": null,
      "metadata": {
        "id": "WH8L2LBWIcfW",
        "outputId": "66bac16b-50bf-47c4-8809-41f54cf51946"
      },
      "outputs": [
        {
          "name": "stdout",
          "output_type": "stream",
          "text": [
            "5/5 [==============================] - 0s 2ms/step - loss: 0.5750 - accuracy: 0.7372\n",
            "accuracy: 73.72%\n"
          ]
        }
      ],
      "source": [
        "#evaluating the model\n",
        "scores = model.evaluate(X_test, y_test)\n",
        "print(\"%s: %.2f%%\" % (model.metrics_names[1], scores[1]*100))"
      ]
    },
    {
      "cell_type": "code",
      "execution_count": null,
      "metadata": {
        "id": "oKxh57itIcfX"
      },
      "outputs": [],
      "source": [
        ""
      ]
    },
    {
      "cell_type": "code",
      "execution_count": null,
      "metadata": {
        "id": "QOxe9BBfIcfX"
      },
      "outputs": [],
      "source": [
        ""
      ]
    }
  ],
  "metadata": {
    "kernelspec": {
      "display_name": "Python 3",
      "language": "python",
      "name": "python3"
    },
    "language_info": {
      "codemirror_mode": {
        "name": "ipython",
        "version": 3
      },
      "file_extension": ".py",
      "mimetype": "text/x-python",
      "name": "python",
      "nbconvert_exporter": "python",
      "pygments_lexer": "ipython3",
      "version": "3.8.8"
    },
    "colab": {
      "name": "Neural_Networks_(Forest_Fires)_assignment_16.ipynb",
      "provenance": [],
      "include_colab_link": true
    }
  },
  "nbformat": 4,
  "nbformat_minor": 0
}